{
 "cells": [
  {
   "cell_type": "code",
   "execution_count": 1,
   "metadata": {},
   "outputs": [],
   "source": [
    "import datetime\n",
    "import os\n",
    "import matplotlib.pyplot as plt\n",
    "\n",
    "import numpy as np\n",
    "import torch\n",
    "from torch import nn\n",
    "from torch.utils.data import DataLoader\n",
    "from torchvision import transforms\n",
    "from tqdm.autonotebook import tqdm\n",
    "\n",
    "from efficientdet.utils import BBoxTransform, ClipBoxes\n",
    "from utils.utils import preprocess, invert_affine, postprocess\n",
    "import glob\n",
    "import pandas as pd\n",
    "import cv2\n",
    "from backbone import EfficientDetBackbone\n",
    "from efficientdet.dataset import CocoDataset, Resizer, Normalizer, Augmenter, collater\n",
    "\n",
    "\n",
    "from shapely.geometry import Polygon\n",
    "from pyproj import Transformer\n",
    "import ast\n",
    "import json\n",
    "device = torch.device('cuda') if torch.cuda.is_available() else torch.device('cpu')"
   ]
  },
  {
   "cell_type": "code",
   "execution_count": 2,
   "metadata": {},
   "outputs": [],
   "source": [
    "def geo_coords(box, x_translation, y_translation, geo_data, center=False):\n",
    "  \"\"\"\n",
    "  Gets coordinates in epsg:4326 format (google maps) of bounding box\n",
    "  If center, return only coordinate of center of bounding box\n",
    "  Params:\n",
    "    Box: [xmin, ymin, xmax, ymax]\n",
    "  \"\"\"\n",
    "  transformer = Transformer.from_crs(geo_data['crs'], 'epsg:4326')\n",
    "  if center:\n",
    "    center_x, center_y = (box[2] + box[0])//2 + x_translation, (box[3] + box[1])//2 + y_translation\n",
    "    new_coords = np.array(geo_data['transform']).reshape((3,3)) @ np.array( [center_x, center_y, 1])\n",
    "\n",
    "    return transformer.transform(new_coords[0], new_coords[1])\n",
    "\n",
    "  else:\n",
    "    new_box = np.array([[x_translation + box[0], y_translation + box[1], 1],\n",
    "            [x_translation + box[2], y_translation + box[3], 1]])\n",
    "    new_coords = np.array(geo_data['transform']).reshape((3,3)) @ new_box.T\n",
    "\n",
    "    return transformer.transform(new_coords[0], new_coords[1])\n",
    "\n",
    "def get_list_polygon(xs, ys):\n",
    "    xs, ys = sorted(xs), sorted(ys)\n",
    "    return [[ys[0], xs[0]], [ys[1], xs[0]], [ys[1], xs[1]], [ys[0], xs[1]]]\n",
    "\n",
    "\n",
    "input_sizes = [512, 640, 768, 896, 1024, 1280, 1280, 1536, 1536]\n",
    "\n",
    "class EvaluationSet(object):\n",
    "    def __init__(self, img_path, set_name='val', compound_coeff=1,\n",
    "                 mean=[0.3470, 0.3371, 0.3029], std=[0.2138, 0.2029, 0.1984]):\n",
    "        \n",
    "        self.imgs = sorted(glob.glob(f'{img_path}/images/{set_name}/*'))\n",
    "        self.df = pd.read_csv(f'{img_path}/{set_name}.csv')\n",
    "        self.mean = mean\n",
    "        self.std = std\n",
    "        self.compound_coeff = compound_coeff\n",
    "        self.max_size = input_sizes[compound_coeff]\n",
    "        \n",
    "    def __getitem__(self, idx):\n",
    "        return preprocess(self.imgs[idx], max_size=self.max_size, mean=self.mean, std=self.std)\n",
    "    \n",
    "    def __len__(self):\n",
    "        return len(self.imgs)"
   ]
  },
  {
   "cell_type": "code",
   "execution_count": 4,
   "metadata": {},
   "outputs": [],
   "source": [
    "import tqdm\n",
    "        \n",
    "def compute_coordinates(dataset, model, device, nms_threshold=0.45, threshold=0.2, set_name='val'):\n",
    "    results = []\n",
    "    json_results = []\n",
    "    regressBoxes = BBoxTransform()\n",
    "    clipBoxes = ClipBoxes()\n",
    "    \n",
    "    for idx, (ori_imgs, framed_imgs, framed_metas) in enumerate(tqdm.tqdm(dataset)):\n",
    "\n",
    "        x = torch.from_numpy(framed_imgs[0])\n",
    "\n",
    "        x = x.to(device)\n",
    "\n",
    "        x = x.unsqueeze(0).permute(0, 3, 1, 2)\n",
    "        features, regression, classification, anchors = model(x)\n",
    "\n",
    "        preds = postprocess(x,\n",
    "                            anchors, regression, classification,\n",
    "                            regressBoxes, clipBoxes,\n",
    "                            threshold, nms_threshold)\n",
    "        \n",
    "        if not preds:\n",
    "            continue\n",
    "\n",
    "        preds = invert_affine(framed_metas, preds)[0]\n",
    "        \n",
    "        md = dataset.df.loc[idx]\n",
    "        scores = preds['scores']\n",
    "        class_ids = preds['class_ids']\n",
    "        rois = preds['rois']\n",
    "        md['transform'] = ast.literal_eval(md['transform'].replace(\"'\", '\"'))\n",
    "        if rois.shape[0] > 0:\n",
    "\n",
    "            bbox_score = scores\n",
    "\n",
    "            for roi_id in range(rois.shape[0]):\n",
    "                score = float(bbox_score[roi_id])\n",
    "                label = int(class_ids[roi_id])\n",
    "                box = rois[roi_id, :]\n",
    "                image_result = {\n",
    "                    'image_id': idx,\n",
    "                    'category_id': label + 1,\n",
    "                    'score': float(score),\n",
    "                    'bbox': box.tolist(),\n",
    "                }\n",
    "                json_results.append(image_result)\n",
    "                xs, ys = geo_coords(box, md['x_offset'], md['y_offset'], md, center=False)\n",
    "                results.append((get_list_polygon(xs, ys), score, label))\n",
    "    \n",
    "    filepath = f'coordinate_results/{set_name}_bbox_results.json'\n",
    "    if os.path.exists(filepath):\n",
    "        os.remove(filepath)\n",
    "    json.dump(json_results, open(filepath, 'w'), indent=4)\n",
    "\n",
    "\n",
    "    return results\n",
    "                \n",
    "def load_model(weights_path, compound_coef, device, num_classes=1, \n",
    "               ratios=[(1.0, 1.0), (1.4, 0.7), (0.7, 1.4)], scales=[2 ** 0, 2 ** (1.0 / 3.0), 2 ** (2.0 / 3.0)]):\n",
    "    model = EfficientDetBackbone(compound_coef=compound_coef, num_classes=num_classes,\n",
    "                                 ratios=ratios,\n",
    "                                 scales=scales)\n",
    "    model.load_state_dict(torch.load(weights_path, map_location=torch.device('cpu')))\n",
    "    model.requires_grad_(False)\n",
    "    model.eval()\n",
    "    model.to(device)\n",
    "    return model"
   ]
  },
  {
   "cell_type": "markdown",
   "metadata": {},
   "source": [
    "## Compute model values"
   ]
  },
  {
   "cell_type": "code",
   "execution_count": 7,
   "metadata": {},
   "outputs": [
    {
     "name": "stderr",
     "output_type": "stream",
     "text": [
      "  0%|          | 0/5276 [00:00<?, ?it/s]/home/m.esguerra/.pyenv/versions/myenv/envs/finderenv/lib/python3.7/site-packages/ipykernel_launcher.py:32: SettingWithCopyWarning: \n",
      "A value is trying to be set on a copy of a slice from a DataFrame\n",
      "\n",
      "See the caveats in the documentation: https://pandas.pydata.org/pandas-docs/stable/user_guide/indexing.html#returning-a-view-versus-a-copy\n",
      "100%|██████████| 5276/5276 [06:04<00:00, 14.49it/s]\n"
     ]
    }
   ],
   "source": [
    "weights = 'logs/cleancoolingTowers_negsamples/images/efficientdet-d2_'\n",
    "compound_coeff = 1\n",
    "\n",
    "model = load_model(weights, compound_coeff, device, num_classes=1)\n",
    "dataset = EvaluationSet('../datasets/cleancoolingTowers_negsamples//', set_name='train',\n",
    "                        compound_coeff=compound_coeff)\n",
    "results = compute_coordinates(dataset, model, device, set_name='d1')"
   ]
  },
  {
   "cell_type": "code",
   "execution_count": 5,
   "metadata": {},
   "outputs": [],
   "source": [
    "# import pickle\n",
    "# with open(f'coordinate_results/coords_d1_second_stage.pkl', 'wb') as f:\n",
    "#         pickle.dump(results, f)\n"
   ]
  },
  {
   "cell_type": "markdown",
   "metadata": {},
   "source": [
    "## Compute second stage"
   ]
  },
  {
   "cell_type": "code",
   "execution_count": 14,
   "metadata": {},
   "outputs": [
    {
     "name": "stderr",
     "output_type": "stream",
     "text": [
      "/home/m.esguerra/.pyenv/versions/myenv/envs/finderenv/lib/python3.7/site-packages/ipykernel_launcher.py:11: SettingWithCopyWarning: \n",
      "A value is trying to be set on a copy of a slice from a DataFrame\n",
      "\n",
      "See the caveats in the documentation: https://pandas.pydata.org/pandas-docs/stable/user_guide/indexing.html#returning-a-view-versus-a-copy\n",
      "  # This is added back by InteractiveShellApp.init_path()\n"
     ]
    },
    {
     "name": "stdout",
     "output_type": "stream",
     "text": [
      "No columns to parse from file\n",
      "No columns to parse from file\n",
      "No columns to parse from file\n",
      "No columns to parse from file\n",
      "No columns to parse from file\n",
      "No columns to parse from file\n",
      "No columns to parse from file\n",
      "No columns to parse from file\n",
      "No columns to parse from file\n",
      "No columns to parse from file\n",
      "No columns to parse from file\n",
      "No columns to parse from file\n",
      "No columns to parse from file\n",
      "No columns to parse from file\n",
      "No columns to parse from file\n",
      "No columns to parse from file\n",
      "No columns to parse from file\n",
      "No columns to parse from file\n"
     ]
    }
   ],
   "source": [
    "def load_targets(annot_path, set_name='val'):\n",
    "    df = pd.read_csv(os.path.join(annot_path, f'{set_name}.csv')\n",
    "                     , index_col=0).sort_values(['directory', 'file']).reset_index(drop=True)\n",
    "    df['width'], df['height'] = 256, 256\n",
    "    coordinate_list = []\n",
    "    for file in sorted(os.listdir(os.path.join(annot_path,'labels', set_name))):\n",
    "        try:\n",
    "            df_res = pd.read_csv(os.path.join(annot_path, 'labels', set_name, file), header=None, sep=' ')\n",
    "            num = int(file.replace('.txt', ''))\n",
    "            md = df.iloc[num]\n",
    "            md['transform'] = ast.literal_eval(md['transform'].replace(\"'\", '\"'))\n",
    "            for i, row in df_res.iterrows():\n",
    "                width, height = row[3]* md['width'], row[4] * md['height']\n",
    "                center_x, center_y = row[1] * md['width'], row[2] * md['height']\n",
    "                box = [center_x- width//2, center_y - height//2, center_x + width // 2, center_y + width //2]\n",
    "                xs, ys = geo_coords(box, md['x_offset'], md['y_offset'], md, center=False)\n",
    "                coordinate_list.append((get_list_polygon(xs, ys), row[0]))\n",
    "        except Exception as e:\n",
    "            print(e)\n",
    "            pass\n",
    "    return coordinate_list\n",
    "    \n",
    "compute = True\n",
    "if compute:\n",
    "    directory = 'cleancoolingTowers_active_distinguish'\n",
    "    coord_list = load_targets(f'../datasets/{directory}', )\n",
    "    import pickle\n",
    "    with open(f'../datasets/{directory}/val_coords.txt', 'wb') as f:\n",
    "        pickle.dump(coord_list, f)"
   ]
  },
  {
   "cell_type": "code",
   "execution_count": 25,
   "metadata": {},
   "outputs": [],
   "source": [
    "def get_confidence_evol(gdf_in, gdf_targets, confidences=np.arange(0.1, 1, 0.04)):\n",
    "    p_ls, r_ls = [], []\n",
    "    for confidence in confidences:\n",
    "        gdf_preds = gdf_in[gdf_in[0] > confidence]\n",
    "        preds_match = geopandas.sjoin(gdf_preds, gdf_targets, how='left', op='within').drop_duplicates('geometry')\n",
    "        target_match = geopandas.sjoin(gdf_preds, gdf_targets, how='right', op='within').drop_duplicates('geometry')\n",
    "        tp = target_match[target_match.index_left.notnull()].drop_duplicates('index_left').shape[0]\n",
    "        fp = preds_match[preds_match.index_right.isna()].shape[0]\n",
    "        fn = target_match[target_match.index_left.isna()].shape[0]\n",
    "        print(tp, fp, fn)\n",
    "        p = tp/(tp+fp) if (tp+fp) > 0 else 1\n",
    "        r = tp/(tp+fn) if (tp + fn) > 0 else 0\n",
    "        p_ls.append(p)\n",
    "        r_ls.append(r)\n",
    "    \n",
    "    return p_ls, r_ls"
   ]
  },
  {
   "cell_type": "code",
   "execution_count": 18,
   "metadata": {},
   "outputs": [],
   "source": [
    "import geopandas\n",
    "from shapely.geometry import Polygon\n",
    "with open('../Yet-Another-EfficientDet-Pytorch/coordinate_results/coords_d1_second_stage.pkl', 'rb') as f:\n",
    "    preds = pickle.load(f)\n",
    "confidences = [p[1] for p in preds]\n",
    "labels = [p[2] for p in preds]\n",
    "polygons_preds = [Polygon(p[0]).centroid for p in preds]\n",
    "preds = geopandas.GeoDataFrame(confidences, geometry=polygons_preds)\n",
    "preds['labels'] =labels"
   ]
  },
  {
   "cell_type": "code",
   "execution_count": 22,
   "metadata": {},
   "outputs": [],
   "source": [
    "with open('../datasets/cleancoolingTowers_active_distinguish/val_coords.txt', 'rb') as f:\n",
    "    coord_list = pickle.load(f)\n",
    "\n",
    "polygon_target = [Polygon(p[0]) for p in coord_list]\n",
    "labels = [p[1] for p in coord_list]\n",
    "gdf_targets = geopandas.GeoDataFrame(geometry=polygon_target)\n",
    "gdf_targets['labels'] = labels\n",
    "gdf_targets['labels'] =gdf_targets['labels'].astype(int)"
   ]
  },
  {
   "cell_type": "code",
   "execution_count": 26,
   "metadata": {},
   "outputs": [
    {
     "name": "stdout",
     "output_type": "stream",
     "text": [
      "76 199 0\n",
      "76 199 0\n",
      "76 199 0\n",
      "76 199 0\n",
      "76 199 0\n",
      "76 199 0\n",
      "76 167 0\n",
      "75 132 0\n",
      "71 109 0\n",
      "71 94 2\n",
      "70 78 3\n",
      "67 63 7\n",
      "62 55 13\n",
      "58 47 15\n",
      "49 35 26\n",
      "41 25 38\n",
      "28 17 52\n",
      "19 11 67\n",
      "16 5 71\n",
      "7 2 82\n",
      "2 1 92\n",
      "1 1 93\n",
      "0 0 94\n",
      "0 0 94\n",
      "0 0 94\n",
      "0 0 94\n",
      "0 0 94\n",
      "0 0 94\n",
      "0 0 94\n",
      "0 0 94\n",
      "0 0 94\n",
      "0 0 94\n",
      "0 0 94\n",
      "0 0 94\n",
      "0 0 94\n",
      "0 0 94\n",
      "0 0 94\n",
      "0 0 94\n",
      "0 0 94\n",
      "0 0 94\n",
      "0 0 94\n",
      "0 0 94\n",
      "0 0 94\n",
      "0 0 94\n",
      "0 0 94\n"
     ]
    },
    {
     "data": {
      "image/png": "[encoded data removed]",
      "text/plain": [
       "<Figure size 864x864 with 1 Axes>"
      ]
     },
     "metadata": {
      "needs_background": "light"
     },
     "output_type": "display_data"
    }
   ],
   "source": [
    "fig, ax = plt.subplots(figsize=(12,12))\n",
    "confidences=np.arange(0.1, 1, 0.02)\n",
    "p_ls, r_ls = get_confidence_evol(preds[preds.labels >0], gdf_targets[gdf_targets.labels>0], confidences)\n",
    "ax.plot(confidences, p_ls, label='precision', marker='o')\n",
    "ax.plot(confidences, r_ls, label='recall', marker='o')\n",
    "ax.legend()\n",
    "ax.set_xlabel('Confidence', fontsize=14)\n",
    "ax.set_ylabel('Score', fontsize=14)\n",
    "ax.set_yticks(np.arange(0,1, 0.05));\n",
    "ax.set_xticks(np.arange(0,1, 0.05))\n",
    "ax.grid()"
   ]
  }
 ],
 "metadata": {
  "kernelspec": {
   "display_name": "Python 3",
   "language": "python",
   "name": "python3"
  },
  "language_info": {
   "codemirror_mode": {
    "name": "ipython",
    "version": 3
   },
   "file_extension": ".py",
   "mimetype": "text/x-python",
   "name": "python",
   "nbconvert_exporter": "python",
   "pygments_lexer": "ipython3",
   "version": "3.7.7"
  }
 },
 "nbformat": 4,
 "nbformat_minor": 4
}
